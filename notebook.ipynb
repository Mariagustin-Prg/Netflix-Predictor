{
 "cells": [
  {
   "cell_type": "markdown",
   "metadata": {},
   "source": [
    "# Netflix Movies - TV Shows\n",
    "En este notebook analizaremos, en primera instancia el dataset que se obtuvo de la página web de [Kaggle](https://www.kaggle.com/datasets/shivamb/netflix-shows)."
   ]
  },
  {
   "cell_type": "markdown",
   "metadata": {},
   "source": [
    "---\n",
    "## APERTURA DEL DATASET\n",
    "---\n"
   ]
  },
  {
   "cell_type": "markdown",
   "metadata": {},
   "source": [
    "Antes de iniciar, importamos las librerías que utilizaremos."
   ]
  },
  {
   "cell_type": "code",
   "execution_count": 125,
   "metadata": {},
   "outputs": [],
   "source": [
    "import pandas as pd\n",
    "import numpy as np\n",
    "import matplotlib.pyplot as plt\n",
    "import seaborn as sns\n",
    "sns.set(style='whitegrid')\n",
    "import warnings\n",
    "warnings.filterwarnings('ignore')\n",
    "import datetime"
   ]
  },
  {
   "cell_type": "markdown",
   "metadata": {},
   "source": [
    "Como primera medida, hay que abrir el archivo *.csv*"
   ]
  },
  {
   "cell_type": "code",
   "execution_count": 126,
   "metadata": {},
   "outputs": [],
   "source": [
    "archive = pd.read_csv(\"netflix_titles.csv\")\n",
    "df = pd.DataFrame(archive)"
   ]
  },
  {
   "cell_type": "markdown",
   "metadata": {},
   "source": [
    "Observemos, por primera vez el dataset:"
   ]
  },
  {
   "cell_type": "code",
   "execution_count": 127,
   "metadata": {},
   "outputs": [
    {
     "data": {
      "text/html": [
       "<div>\n",
       "<style scoped>\n",
       "    .dataframe tbody tr th:only-of-type {\n",
       "        vertical-align: middle;\n",
       "    }\n",
       "\n",
       "    .dataframe tbody tr th {\n",
       "        vertical-align: top;\n",
       "    }\n",
       "\n",
       "    .dataframe thead th {\n",
       "        text-align: right;\n",
       "    }\n",
       "</style>\n",
       "<table border=\"1\" class=\"dataframe\">\n",
       "  <thead>\n",
       "    <tr style=\"text-align: right;\">\n",
       "      <th></th>\n",
       "      <th>show_id</th>\n",
       "      <th>type</th>\n",
       "      <th>title</th>\n",
       "      <th>director</th>\n",
       "      <th>cast</th>\n",
       "      <th>country</th>\n",
       "      <th>date_added</th>\n",
       "      <th>release_year</th>\n",
       "      <th>rating</th>\n",
       "      <th>duration</th>\n",
       "      <th>listed_in</th>\n",
       "      <th>description</th>\n",
       "    </tr>\n",
       "  </thead>\n",
       "  <tbody>\n",
       "    <tr>\n",
       "      <th>0</th>\n",
       "      <td>s1</td>\n",
       "      <td>Movie</td>\n",
       "      <td>Dick Johnson Is Dead</td>\n",
       "      <td>Kirsten Johnson</td>\n",
       "      <td>NaN</td>\n",
       "      <td>United States</td>\n",
       "      <td>September 25, 2021</td>\n",
       "      <td>2020</td>\n",
       "      <td>PG-13</td>\n",
       "      <td>90 min</td>\n",
       "      <td>Documentaries</td>\n",
       "      <td>As her father nears the end of his life, filmm...</td>\n",
       "    </tr>\n",
       "    <tr>\n",
       "      <th>1</th>\n",
       "      <td>s2</td>\n",
       "      <td>TV Show</td>\n",
       "      <td>Blood &amp; Water</td>\n",
       "      <td>NaN</td>\n",
       "      <td>Ama Qamata, Khosi Ngema, Gail Mabalane, Thaban...</td>\n",
       "      <td>South Africa</td>\n",
       "      <td>September 24, 2021</td>\n",
       "      <td>2021</td>\n",
       "      <td>TV-MA</td>\n",
       "      <td>2 Seasons</td>\n",
       "      <td>International TV Shows, TV Dramas, TV Mysteries</td>\n",
       "      <td>After crossing paths at a party, a Cape Town t...</td>\n",
       "    </tr>\n",
       "    <tr>\n",
       "      <th>2</th>\n",
       "      <td>s3</td>\n",
       "      <td>TV Show</td>\n",
       "      <td>Ganglands</td>\n",
       "      <td>Julien Leclercq</td>\n",
       "      <td>Sami Bouajila, Tracy Gotoas, Samuel Jouy, Nabi...</td>\n",
       "      <td>NaN</td>\n",
       "      <td>September 24, 2021</td>\n",
       "      <td>2021</td>\n",
       "      <td>TV-MA</td>\n",
       "      <td>1 Season</td>\n",
       "      <td>Crime TV Shows, International TV Shows, TV Act...</td>\n",
       "      <td>To protect his family from a powerful drug lor...</td>\n",
       "    </tr>\n",
       "    <tr>\n",
       "      <th>3</th>\n",
       "      <td>s4</td>\n",
       "      <td>TV Show</td>\n",
       "      <td>Jailbirds New Orleans</td>\n",
       "      <td>NaN</td>\n",
       "      <td>NaN</td>\n",
       "      <td>NaN</td>\n",
       "      <td>September 24, 2021</td>\n",
       "      <td>2021</td>\n",
       "      <td>TV-MA</td>\n",
       "      <td>1 Season</td>\n",
       "      <td>Docuseries, Reality TV</td>\n",
       "      <td>Feuds, flirtations and toilet talk go down amo...</td>\n",
       "    </tr>\n",
       "    <tr>\n",
       "      <th>4</th>\n",
       "      <td>s5</td>\n",
       "      <td>TV Show</td>\n",
       "      <td>Kota Factory</td>\n",
       "      <td>NaN</td>\n",
       "      <td>Mayur More, Jitendra Kumar, Ranjan Raj, Alam K...</td>\n",
       "      <td>India</td>\n",
       "      <td>September 24, 2021</td>\n",
       "      <td>2021</td>\n",
       "      <td>TV-MA</td>\n",
       "      <td>2 Seasons</td>\n",
       "      <td>International TV Shows, Romantic TV Shows, TV ...</td>\n",
       "      <td>In a city of coaching centers known to train I...</td>\n",
       "    </tr>\n",
       "    <tr>\n",
       "      <th>...</th>\n",
       "      <td>...</td>\n",
       "      <td>...</td>\n",
       "      <td>...</td>\n",
       "      <td>...</td>\n",
       "      <td>...</td>\n",
       "      <td>...</td>\n",
       "      <td>...</td>\n",
       "      <td>...</td>\n",
       "      <td>...</td>\n",
       "      <td>...</td>\n",
       "      <td>...</td>\n",
       "      <td>...</td>\n",
       "    </tr>\n",
       "    <tr>\n",
       "      <th>8802</th>\n",
       "      <td>s8803</td>\n",
       "      <td>Movie</td>\n",
       "      <td>Zodiac</td>\n",
       "      <td>David Fincher</td>\n",
       "      <td>Mark Ruffalo, Jake Gyllenhaal, Robert Downey J...</td>\n",
       "      <td>United States</td>\n",
       "      <td>November 20, 2019</td>\n",
       "      <td>2007</td>\n",
       "      <td>R</td>\n",
       "      <td>158 min</td>\n",
       "      <td>Cult Movies, Dramas, Thrillers</td>\n",
       "      <td>A political cartoonist, a crime reporter and a...</td>\n",
       "    </tr>\n",
       "    <tr>\n",
       "      <th>8803</th>\n",
       "      <td>s8804</td>\n",
       "      <td>TV Show</td>\n",
       "      <td>Zombie Dumb</td>\n",
       "      <td>NaN</td>\n",
       "      <td>NaN</td>\n",
       "      <td>NaN</td>\n",
       "      <td>July 1, 2019</td>\n",
       "      <td>2018</td>\n",
       "      <td>TV-Y7</td>\n",
       "      <td>2 Seasons</td>\n",
       "      <td>Kids' TV, Korean TV Shows, TV Comedies</td>\n",
       "      <td>While living alone in a spooky town, a young g...</td>\n",
       "    </tr>\n",
       "    <tr>\n",
       "      <th>8804</th>\n",
       "      <td>s8805</td>\n",
       "      <td>Movie</td>\n",
       "      <td>Zombieland</td>\n",
       "      <td>Ruben Fleischer</td>\n",
       "      <td>Jesse Eisenberg, Woody Harrelson, Emma Stone, ...</td>\n",
       "      <td>United States</td>\n",
       "      <td>November 1, 2019</td>\n",
       "      <td>2009</td>\n",
       "      <td>R</td>\n",
       "      <td>88 min</td>\n",
       "      <td>Comedies, Horror Movies</td>\n",
       "      <td>Looking to survive in a world taken over by zo...</td>\n",
       "    </tr>\n",
       "    <tr>\n",
       "      <th>8805</th>\n",
       "      <td>s8806</td>\n",
       "      <td>Movie</td>\n",
       "      <td>Zoom</td>\n",
       "      <td>Peter Hewitt</td>\n",
       "      <td>Tim Allen, Courteney Cox, Chevy Chase, Kate Ma...</td>\n",
       "      <td>United States</td>\n",
       "      <td>January 11, 2020</td>\n",
       "      <td>2006</td>\n",
       "      <td>PG</td>\n",
       "      <td>88 min</td>\n",
       "      <td>Children &amp; Family Movies, Comedies</td>\n",
       "      <td>Dragged from civilian life, a former superhero...</td>\n",
       "    </tr>\n",
       "    <tr>\n",
       "      <th>8806</th>\n",
       "      <td>s8807</td>\n",
       "      <td>Movie</td>\n",
       "      <td>Zubaan</td>\n",
       "      <td>Mozez Singh</td>\n",
       "      <td>Vicky Kaushal, Sarah-Jane Dias, Raaghav Chanan...</td>\n",
       "      <td>India</td>\n",
       "      <td>March 2, 2019</td>\n",
       "      <td>2015</td>\n",
       "      <td>TV-14</td>\n",
       "      <td>111 min</td>\n",
       "      <td>Dramas, International Movies, Music &amp; Musicals</td>\n",
       "      <td>A scrappy but poor boy worms his way into a ty...</td>\n",
       "    </tr>\n",
       "  </tbody>\n",
       "</table>\n",
       "<p>8807 rows × 12 columns</p>\n",
       "</div>"
      ],
      "text/plain": [
       "     show_id     type                  title         director  \\\n",
       "0         s1    Movie   Dick Johnson Is Dead  Kirsten Johnson   \n",
       "1         s2  TV Show          Blood & Water              NaN   \n",
       "2         s3  TV Show              Ganglands  Julien Leclercq   \n",
       "3         s4  TV Show  Jailbirds New Orleans              NaN   \n",
       "4         s5  TV Show           Kota Factory              NaN   \n",
       "...      ...      ...                    ...              ...   \n",
       "8802   s8803    Movie                 Zodiac    David Fincher   \n",
       "8803   s8804  TV Show            Zombie Dumb              NaN   \n",
       "8804   s8805    Movie             Zombieland  Ruben Fleischer   \n",
       "8805   s8806    Movie                   Zoom     Peter Hewitt   \n",
       "8806   s8807    Movie                 Zubaan      Mozez Singh   \n",
       "\n",
       "                                                   cast        country  \\\n",
       "0                                                   NaN  United States   \n",
       "1     Ama Qamata, Khosi Ngema, Gail Mabalane, Thaban...   South Africa   \n",
       "2     Sami Bouajila, Tracy Gotoas, Samuel Jouy, Nabi...            NaN   \n",
       "3                                                   NaN            NaN   \n",
       "4     Mayur More, Jitendra Kumar, Ranjan Raj, Alam K...          India   \n",
       "...                                                 ...            ...   \n",
       "8802  Mark Ruffalo, Jake Gyllenhaal, Robert Downey J...  United States   \n",
       "8803                                                NaN            NaN   \n",
       "8804  Jesse Eisenberg, Woody Harrelson, Emma Stone, ...  United States   \n",
       "8805  Tim Allen, Courteney Cox, Chevy Chase, Kate Ma...  United States   \n",
       "8806  Vicky Kaushal, Sarah-Jane Dias, Raaghav Chanan...          India   \n",
       "\n",
       "              date_added  release_year rating   duration  \\\n",
       "0     September 25, 2021          2020  PG-13     90 min   \n",
       "1     September 24, 2021          2021  TV-MA  2 Seasons   \n",
       "2     September 24, 2021          2021  TV-MA   1 Season   \n",
       "3     September 24, 2021          2021  TV-MA   1 Season   \n",
       "4     September 24, 2021          2021  TV-MA  2 Seasons   \n",
       "...                  ...           ...    ...        ...   \n",
       "8802   November 20, 2019          2007      R    158 min   \n",
       "8803        July 1, 2019          2018  TV-Y7  2 Seasons   \n",
       "8804    November 1, 2019          2009      R     88 min   \n",
       "8805    January 11, 2020          2006     PG     88 min   \n",
       "8806       March 2, 2019          2015  TV-14    111 min   \n",
       "\n",
       "                                              listed_in  \\\n",
       "0                                         Documentaries   \n",
       "1       International TV Shows, TV Dramas, TV Mysteries   \n",
       "2     Crime TV Shows, International TV Shows, TV Act...   \n",
       "3                                Docuseries, Reality TV   \n",
       "4     International TV Shows, Romantic TV Shows, TV ...   \n",
       "...                                                 ...   \n",
       "8802                     Cult Movies, Dramas, Thrillers   \n",
       "8803             Kids' TV, Korean TV Shows, TV Comedies   \n",
       "8804                            Comedies, Horror Movies   \n",
       "8805                 Children & Family Movies, Comedies   \n",
       "8806     Dramas, International Movies, Music & Musicals   \n",
       "\n",
       "                                            description  \n",
       "0     As her father nears the end of his life, filmm...  \n",
       "1     After crossing paths at a party, a Cape Town t...  \n",
       "2     To protect his family from a powerful drug lor...  \n",
       "3     Feuds, flirtations and toilet talk go down amo...  \n",
       "4     In a city of coaching centers known to train I...  \n",
       "...                                                 ...  \n",
       "8802  A political cartoonist, a crime reporter and a...  \n",
       "8803  While living alone in a spooky town, a young g...  \n",
       "8804  Looking to survive in a world taken over by zo...  \n",
       "8805  Dragged from civilian life, a former superhero...  \n",
       "8806  A scrappy but poor boy worms his way into a ty...  \n",
       "\n",
       "[8807 rows x 12 columns]"
      ]
     },
     "execution_count": 127,
     "metadata": {},
     "output_type": "execute_result"
    }
   ],
   "source": [
    "df"
   ]
  },
  {
   "cell_type": "markdown",
   "metadata": {},
   "source": [
    "Como nos indica el pie de tabla: el dataset tiene más de ocho mil títulos diferentes con doce columnas referentes a distintas características."
   ]
  },
  {
   "cell_type": "markdown",
   "metadata": {},
   "source": [
    "---\n",
    "---\n",
    "```EL SIGUIENTE FRAGMENTO ESTÁ DESTINADO AL ENTENDIMIENTO DE LOS PROGRAMADORES Y LAS TRANSFORMACIONES QUE HABRÍA QUE HACERLE AL DATASET.```"
   ]
  },
  {
   "cell_type": "markdown",
   "metadata": {},
   "source": [
    "Renombremos las columnas:"
   ]
  },
  {
   "cell_type": "code",
   "execution_count": 128,
   "metadata": {},
   "outputs": [],
   "source": [
    "df.rename(columns= {\n",
    "    'show_id': 'id_show',\n",
    "    'type': 'tipo',\n",
    "    'title': 'titulo',\n",
    "    'director': 'director',\n",
    "    'cast': 'casting',\n",
    "    'country': 'pais',\n",
    "    'date_added': 'fecha_de_inclusion_a_la_plataforma',\n",
    "    'release_year': 'año_de_lanzamiento',\n",
    "    'duration': 'duracion',\n",
    "    'listed_in': 'lista_generos',\n",
    "    'description': 'descripcion'\n",
    "}, inplace= True)"
   ]
  },
  {
   "cell_type": "markdown",
   "metadata": {},
   "source": [
    "Ahora veamos los tipos de datos que están en las columnas:"
   ]
  },
  {
   "cell_type": "code",
   "execution_count": 129,
   "metadata": {},
   "outputs": [
    {
     "data": {
      "text/plain": [
       "id_show                               object\n",
       "tipo                                  object\n",
       "titulo                                object\n",
       "director                              object\n",
       "casting                               object\n",
       "pais                                  object\n",
       "fecha_de_inclusion_a_la_plataforma    object\n",
       "año_de_lanzamiento                     int64\n",
       "rating                                object\n",
       "duracion                              object\n",
       "lista_generos                         object\n",
       "descripcion                           object\n",
       "dtype: object"
      ]
     },
     "execution_count": 129,
     "metadata": {},
     "output_type": "execute_result"
    }
   ],
   "source": [
    "df.dtypes"
   ]
  },
  {
   "cell_type": "markdown",
   "metadata": {},
   "source": [
    "Como podemos observar, hay columnas que están mal constituidas; como la columna con la fecha de inclusión a la plataforma que la incluye forma de texto en lugar de una fecha.\n",
    "\n",
    "Hagamos, de a una, las transformaciones necesarias para poder obtener las columnas con valores óptimos para su posterior análisis y utilización."
   ]
  },
  {
   "cell_type": "code",
   "execution_count": 130,
   "metadata": {},
   "outputs": [
    {
     "data": {
      "text/plain": [
       "dtype('int64')"
      ]
     },
     "execution_count": 130,
     "metadata": {},
     "output_type": "execute_result"
    }
   ],
   "source": [
    "df['id_show'] = df['id_show'].apply(lambda x: x.replace('s', ''))\n",
    "df['id_show'] = df['id_show'].apply(lambda n: int(n))\n",
    "df.id_show.dtypes"
   ]
  },
  {
   "cell_type": "code",
   "execution_count": 132,
   "metadata": {},
   "outputs": [],
   "source": [
    "meses = [\"January\", \"February\", \"March\", \"April\", \"May\", \"June\", \"July\", \"August\", \"September\", \"October\", \"November\", \"December\"]\n",
    "dates = []\n",
    "for obj3ct in df['fecha_de_inclusion_a_la_plataforma']:\n",
    "    if type(obj3ct) != str:\n",
    "        dates.append('None')\n",
    "    else:    \n",
    "        for num, month in enumerate(meses):\n",
    "            if month in obj3ct:\n",
    "                obj3ct = obj3ct.replace(month, str(str(num + 1) + \",\"))\n",
    "                \n",
    "            else:\n",
    "                pass\n",
    "        dates.append(obj3ct)\n",
    "len(dates)\n",
    "\n",
    "df['fecha_de_inclusion_a_la_plataforma'] = dates\n",
    "lista = []\n",
    "for date in df['fecha_de_inclusion_a_la_plataforma']:\n",
    "    dict_dates = {}\n",
    "    mark = 0\n",
    "    string = \"\"\n",
    "    for letter in date:\n",
    "        if letter == \" \":\n",
    "            pass\n",
    "        elif letter == \",\":\n",
    "            dict_dates[mark] = string\n",
    "            mark += 1\n",
    "            string = \"\"\n",
    "        else:\n",
    "            string = string + letter\n",
    "        dict_dates[mark] = string\n",
    "    try:\n",
    "        lista.append([str(dict_dates[1]), str(dict_dates[0]), str(dict_dates[2])])\n",
    "    except KeyError:\n",
    "        lista.append(string)\n",
    "for conn in lista:\n",
    "    try:\n",
    "        if type(conn) != list:\n",
    "            pass\n",
    "        else:\n",
    "            if len(conn[1]) == 1:\n",
    "                conn[1] = \"0\" + conn[1]\n",
    "\n",
    "            if len(conn[0]) == 1:\n",
    "                conn[0] = \"0\" + conn[0]\n",
    "\n",
    "    except IndexError:\n",
    "        pass\n",
    "\n",
    "lista\n",
    "df['fecha_de_inclusion_a_la_plataforma'] = lista\n",
    "df['fecha_de_inclusion_a_la_plataforma'] = df['fecha_de_inclusion_a_la_plataforma'].apply(lambda x: \"-\".join(x))\n",
    "dates2 = []\n",
    "for date in df['fecha_de_inclusion_a_la_plataforma']:\n",
    "    if 'None' in date:\n",
    "        dates2.append(date)\n",
    "    else:\n",
    "        try:\n",
    "            date = datetime.datetime.strptime(date, \"%d-%m-%Y\")\n",
    "            dates2.append(date)\n",
    "        except ValueError:\n",
    "            dates2.append(np.nan)\n",
    "\n",
    "dates2\n",
    "df['fecha_de_inclusion_a_la_plataforma'] = dates2"
   ]
  },
  {
   "cell_type": "code",
   "execution_count": 133,
   "metadata": {},
   "outputs": [
    {
     "data": {
      "text/plain": [
       "dtype('<M8[ns]')"
      ]
     },
     "execution_count": 133,
     "metadata": {},
     "output_type": "execute_result"
    }
   ],
   "source": [
    "df['fecha_de_inclusion_a_la_plataforma'].dtypes"
   ]
  },
  {
   "cell_type": "code",
   "execution_count": 134,
   "metadata": {},
   "outputs": [
    {
     "data": {
      "text/plain": [
       "id_show                                        int64\n",
       "tipo                                          object\n",
       "titulo                                        object\n",
       "director                                      object\n",
       "casting                                       object\n",
       "pais                                          object\n",
       "fecha_de_inclusion_a_la_plataforma    datetime64[ns]\n",
       "año_de_lanzamiento                             int64\n",
       "rating                                        object\n",
       "duracion                                      object\n",
       "lista_generos                                 object\n",
       "descripcion                                   object\n",
       "dtype: object"
      ]
     },
     "execution_count": 134,
     "metadata": {},
     "output_type": "execute_result"
    }
   ],
   "source": [
    "df.dtypes"
   ]
  },
  {
   "cell_type": "markdown",
   "metadata": {},
   "source": [
    "---\n",
    "---\n",
    "## ```AHORA PROSIGUE EL ANÁLISIS```\n",
    "---\n",
    "---\n"
   ]
  },
  {
   "cell_type": "markdown",
   "metadata": {},
   "source": [
    "En primera instancia, vamos a separar el dataset en dos: Shows de televisión y Películas."
   ]
  },
  {
   "cell_type": "code",
   "execution_count": 135,
   "metadata": {},
   "outputs": [
    {
     "name": "stdout",
     "output_type": "stream",
     "text": [
      "Hay 2 categorías: ['Movie', 'TV Show']\n"
     ]
    }
   ],
   "source": [
    "categories = df['tipo'].unique()\n",
    "print(f\"Hay {len(categories)} categorías: {list(categories)}\")"
   ]
  },
  {
   "cell_type": "code",
   "execution_count": 136,
   "metadata": {},
   "outputs": [
    {
     "name": "stdout",
     "output_type": "stream",
     "text": [
      "Hay 6131 películas. Y 2676 TV Shows.\n"
     ]
    }
   ],
   "source": [
    "movies = df[df['tipo'].str.contains(\"Movie\", case= False, na= False)]\n",
    "shows = df[df['tipo'].str.contains(\"TV Show\", case= False, na= False)]\n",
    "\n",
    "print(f\"Hay {movies.shape[0]} películas. Y {shows.shape[0]} TV Shows.\")"
   ]
  },
  {
   "cell_type": "markdown",
   "metadata": {},
   "source": [
    "### Películas."
   ]
  },
  {
   "cell_type": "markdown",
   "metadata": {},
   "source": [
    "Comencemos con el dataset de películas y si contiene valores nulos."
   ]
  },
  {
   "cell_type": "code",
   "execution_count": 137,
   "metadata": {},
   "outputs": [
    {
     "name": "stdout",
     "output_type": "stream",
     "text": [
      "Cantidad de nulos por columna: {'id_show': 0, 'tipo': 0, 'titulo': 0, 'director': 188, 'casting': 475, 'pais': 440, 'fecha_de_inclusion_a_la_plataforma': 0, 'año_de_lanzamiento': 0, 'rating': 2, 'duracion': 3, 'lista_generos': 0, 'descripcion': 0}\n"
     ]
    }
   ],
   "source": [
    "print(f\"Cantidad de nulos por columna: {dict(movies.isnull().sum())}\")"
   ]
  },
  {
   "cell_type": "code",
   "execution_count": 138,
   "metadata": {},
   "outputs": [
    {
     "data": {
      "image/png": "[encoded data removed]",
      "text/plain": [
       "<Figure size 1200x400 with 1 Axes>"
      ]
     },
     "metadata": {},
     "output_type": "display_data"
    }
   ],
   "source": [
    "nulls_movies = dict(movies.isnull().sum())\n",
    "\n",
    "plt.figure(figsize=(12, 4))\n",
    "plt.barh(y= list(nulls_movies.keys()), width= list(nulls_movies.values()), color= '#bF2030')\n",
    "\n",
    "for y, x in enumerate(nulls_movies.values()):\n",
    "    if x >= 1:\n",
    "        plt.text(x, y, str(x), ha= 'left', va= 'center')\n",
    "\n",
    "plt.xticks(np.linspace(0, 500, 11))\n",
    "plt.tight_layout()\n",
    "plt.title(\"Cantidad de valores nulos por columna en el dataset que contiene peliculas.\")\n",
    "plt.xlabel(\"Cantidad de valores nulos\")\n",
    "plt.ylabel(\"Nombres de las columnas\")\n",
    "plt.show()"
   ]
  },
  {
   "cell_type": "markdown",
   "metadata": {},
   "source": [
    "Como podemos ver, dentro del dataset de películas exiten algunos registros que tienen valores nulos.\n",
    "\n",
    "Veamos cuanto porcentaje, del total de películas, representan los valores nulos."
   ]
  },
  {
   "cell_type": "code",
   "execution_count": 144,
   "metadata": {},
   "outputs": [
    {
     "name": "stdout",
     "output_type": "stream",
     "text": [
      "Porcentaje de nulos para la columna 'Duración': % 0.04893165878323275\n",
      "Porcentaje de nulos para la columna 'rating': % 0.032621105855488504\n",
      "Porcentaje de nulos para la columna 'pais': % 7.176643288207471\n",
      "Porcentaje de nulos para la columna 'casting': % 7.747512640678519\n",
      "Porcentaje de nulos para la columna 'director': % 3.066383950415919\n"
     ]
    }
   ],
   "source": [
    "# Solamente haremos el cálculo para las columnas que sí contienen valores nulos:\n",
    "total = movies.shape[0]\n",
    "print(f\"Porcentaje de nulos para la columna 'Duración': % {nulls_movies['duracion'] * 100 / total}\")\n",
    "print(f\"Porcentaje de nulos para la columna 'rating': % {nulls_movies['rating'] * 100 / total}\")\n",
    "print(f\"Porcentaje de nulos para la columna 'pais': % {nulls_movies['pais'] * 100 / total}\")\n",
    "print(f\"Porcentaje de nulos para la columna 'casting': % {nulls_movies['casting'] * 100 / total}\")\n",
    "print(f\"Porcentaje de nulos para la columna 'director': % {nulls_movies['director'] * 100 / total}\")"
   ]
  },
  {
   "cell_type": "markdown",
   "metadata": {},
   "source": [
    "Como pudimos calcular, la cantidad de valores nulos no representa ni la décima parte del total del dataset. Podemos tratar con eso."
   ]
  },
  {
   "cell_type": "code",
   "execution_count": 157,
   "metadata": {},
   "outputs": [
    {
     "name": "stdout",
     "output_type": "stream",
     "text": [
      "Registros con valores nulos: 946.\n"
     ]
    }
   ],
   "source": [
    "print(f\"Registros con valores nulos: {movies[movies.isnull().any(axis=1)].shape[0]}.\")"
   ]
  },
  {
   "cell_type": "code",
   "execution_count": 162,
   "metadata": {},
   "outputs": [
    {
     "name": "stdout",
     "output_type": "stream",
     "text": [
      "Porcentaje, sobre el total de películas, de registros con valores nulos: 15.429783069646062 %\n"
     ]
    }
   ],
   "source": [
    "print(f\"Porcentaje, sobre el total de películas, de registros con valores nulos: {movies[movies.isnull().any(axis=1)].shape[0] * 100 / movies.shape[0]} %\")"
   ]
  },
  {
   "cell_type": "markdown",
   "metadata": {},
   "source": [
    "En todo el dataset, despreciando las columnas, poco más del 15% de los registros contiene, al menos, un valor nulo."
   ]
  },
  {
   "cell_type": "markdown",
   "metadata": {},
   "source": [
    "### TV Shows"
   ]
  },
  {
   "cell_type": "markdown",
   "metadata": {},
   "source": [
    "Veamos, cuantos nulos tiene cada columna."
   ]
  },
  {
   "cell_type": "code",
   "execution_count": 169,
   "metadata": {},
   "outputs": [
    {
     "data": {
      "image/png": "[encoded data removed]",
      "text/plain": [
       "<Figure size 800x500 with 1 Axes>"
      ]
     },
     "metadata": {},
     "output_type": "display_data"
    }
   ],
   "source": [
    "nulls_tv = dict(shows.isnull().sum())\n",
    "\n",
    "plt.figure(figsize=(8, 5))\n",
    "plt.barh(y= list(nulls_tv.keys()), width= list(nulls_tv.values()), color= \"#0a46Fb\")\n",
    "\n",
    "for y, x in enumerate(nulls_tv.values()):\n",
    "    if x > 0:\n",
    "        plt.text(x, y, str(x), ha= 'left', va= 'center')"
   ]
  },
  {
   "cell_type": "markdown",
   "metadata": {},
   "source": [
    "En el caso del dataset con los shows de televisión, los nulos están más presentes.\n",
    "\n",
    "Son muchos más nulos, haciendo la comparación con el dataset de las películas. Veamos, también, el porcentaje, respecto al total de series, de los valores nulos."
   ]
  },
  {
   "cell_type": "code",
   "execution_count": 170,
   "metadata": {},
   "outputs": [
    {
     "name": "stdout",
     "output_type": "stream",
     "text": [
      "Porcentaje de nulos en la columna 'director': 91.4050822122571 %\n",
      "Porcentaje de nulos en la columna 'casting': 13.079222720478326 %\n",
      "Porcentaje de nulos en la columna 'pais': 14.611360239162929 %\n",
      "Porcentaje de nulos en la columna 'fecha_de_inclusion_a_la_plataforma': 0.37369207772795215 %\n",
      "Porcentaje de nulos en la columna 'rating': 0.07473841554559044 %\n"
     ]
    }
   ],
   "source": [
    "print(f\"Porcentaje de nulos en la columna 'director': {nulls_tv['director'] * 100 / shows.shape[0]} %\")\n",
    "print(f\"Porcentaje de nulos en la columna 'casting': {nulls_tv['casting'] * 100 / shows.shape[0]} %\")\n",
    "print(f\"Porcentaje de nulos en la columna 'pais': {nulls_tv['pais'] * 100 / shows.shape[0]} %\")\n",
    "print(f\"Porcentaje de nulos en la columna 'fecha_de_inclusion_a_la_plataforma': {nulls_tv['fecha_de_inclusion_a_la_plataforma'] * 100 / shows.shape[0]} %\")\n",
    "print(f\"Porcentaje de nulos en la columna 'rating': {nulls_tv['rating'] * 100 / shows.shape[0]} %\")"
   ]
  },
  {
   "cell_type": "markdown",
   "metadata": {},
   "source": [
    "En este caso, la columna de Directores se encuentra sumamente vacía, con más del 90% conteniendo nulos. Es algo que no podríamos utilizar para nuestras predicciones. Por lo tanto, deberíamos eliminarla."
   ]
  }
 ],
 "metadata": {
  "kernelspec": {
   "display_name": "venv",
   "language": "python",
   "name": "python3"
  },
  "language_info": {
   "codemirror_mode": {
    "name": "ipython",
    "version": 3
   },
   "file_extension": ".py",
   "mimetype": "text/x-python",
   "name": "python",
   "nbconvert_exporter": "python",
   "pygments_lexer": "ipython3",
   "version": "3.11.4"
  },
  "orig_nbformat": 4
 },
 "nbformat": 4,
 "nbformat_minor": 2
}
